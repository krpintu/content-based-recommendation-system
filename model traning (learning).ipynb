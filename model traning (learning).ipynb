{
 "cells": [
  {
   "cell_type": "code",
   "execution_count": 1,
   "id": "dfbe326b-1b95-48d1-af4b-a1a6a7c130b2",
   "metadata": {
    "tags": []
   },
   "outputs": [],
   "source": [
    "import pandas as pd"
   ]
  },
  {
   "cell_type": "code",
   "execution_count": 2,
   "id": "5d8ac346-bcfc-4394-b0e2-8bd1efd1fad4",
   "metadata": {},
   "outputs": [],
   "source": [
    "credits_data  = pd.read_csv('data/tmdb_5000_credits.csv')\n",
    "movie_data  = pd.read_csv('data/tmdb_5000_movies.csv')\n"
   ]
  },
  {
   "cell_type": "code",
   "execution_count": 3,
   "id": "f6b9a12b-f357-4ef8-9b9b-51841aeefb15",
   "metadata": {},
   "outputs": [
    {
     "data": {
      "text/html": [
       "<div>\n",
       "<style scoped>\n",
       "    .dataframe tbody tr th:only-of-type {\n",
       "        vertical-align: middle;\n",
       "    }\n",
       "\n",
       "    .dataframe tbody tr th {\n",
       "        vertical-align: top;\n",
       "    }\n",
       "\n",
       "    .dataframe thead th {\n",
       "        text-align: right;\n",
       "    }\n",
       "</style>\n",
       "<table border=\"1\" class=\"dataframe\">\n",
       "  <thead>\n",
       "    <tr style=\"text-align: right;\">\n",
       "      <th></th>\n",
       "      <th>movie_id</th>\n",
       "      <th>title</th>\n",
       "      <th>cast</th>\n",
       "      <th>crew</th>\n",
       "    </tr>\n",
       "  </thead>\n",
       "  <tbody>\n",
       "    <tr>\n",
       "      <th>0</th>\n",
       "      <td>19995</td>\n",
       "      <td>Avatar</td>\n",
       "      <td>[{\"cast_id\": 242, \"character\": \"Jake Sully\", \"...</td>\n",
       "      <td>[{\"credit_id\": \"52fe48009251416c750aca23\", \"de...</td>\n",
       "    </tr>\n",
       "    <tr>\n",
       "      <th>1</th>\n",
       "      <td>285</td>\n",
       "      <td>Pirates of the Caribbean: At World's End</td>\n",
       "      <td>[{\"cast_id\": 4, \"character\": \"Captain Jack Spa...</td>\n",
       "      <td>[{\"credit_id\": \"52fe4232c3a36847f800b579\", \"de...</td>\n",
       "    </tr>\n",
       "  </tbody>\n",
       "</table>\n",
       "</div>"
      ],
      "text/plain": [
       "   movie_id                                     title  \\\n",
       "0     19995                                    Avatar   \n",
       "1       285  Pirates of the Caribbean: At World's End   \n",
       "\n",
       "                                                cast  \\\n",
       "0  [{\"cast_id\": 242, \"character\": \"Jake Sully\", \"...   \n",
       "1  [{\"cast_id\": 4, \"character\": \"Captain Jack Spa...   \n",
       "\n",
       "                                                crew  \n",
       "0  [{\"credit_id\": \"52fe48009251416c750aca23\", \"de...  \n",
       "1  [{\"credit_id\": \"52fe4232c3a36847f800b579\", \"de...  "
      ]
     },
     "execution_count": 3,
     "metadata": {},
     "output_type": "execute_result"
    }
   ],
   "source": [
    "credits_data.head(2)\n"
   ]
  },
  {
   "cell_type": "code",
   "execution_count": 4,
   "id": "afda7893-2c17-4c8a-87d3-bd9563b4fd51",
   "metadata": {},
   "outputs": [
    {
     "name": "stdout",
     "output_type": "stream",
     "text": [
      "<class 'pandas.core.frame.DataFrame'>\n",
      "RangeIndex: 4803 entries, 0 to 4802\n",
      "Data columns (total 4 columns):\n",
      " #   Column    Non-Null Count  Dtype \n",
      "---  ------    --------------  ----- \n",
      " 0   movie_id  4803 non-null   int64 \n",
      " 1   title     4803 non-null   object\n",
      " 2   cast      4803 non-null   object\n",
      " 3   crew      4803 non-null   object\n",
      "dtypes: int64(1), object(3)\n",
      "memory usage: 150.2+ KB\n"
     ]
    },
    {
     "data": {
      "text/plain": [
       "(4803, 4)"
      ]
     },
     "execution_count": 4,
     "metadata": {},
     "output_type": "execute_result"
    }
   ],
   "source": [
    "credits_data.info()\n",
    "credits_data.shape\n"
   ]
  },
  {
   "cell_type": "code",
   "execution_count": 5,
   "id": "063d267a-e202-4485-996f-2103692e74fd",
   "metadata": {},
   "outputs": [
    {
     "data": {
      "text/html": [
       "<div>\n",
       "<style scoped>\n",
       "    .dataframe tbody tr th:only-of-type {\n",
       "        vertical-align: middle;\n",
       "    }\n",
       "\n",
       "    .dataframe tbody tr th {\n",
       "        vertical-align: top;\n",
       "    }\n",
       "\n",
       "    .dataframe thead th {\n",
       "        text-align: right;\n",
       "    }\n",
       "</style>\n",
       "<table border=\"1\" class=\"dataframe\">\n",
       "  <thead>\n",
       "    <tr style=\"text-align: right;\">\n",
       "      <th></th>\n",
       "      <th>budget</th>\n",
       "      <th>genres</th>\n",
       "      <th>homepage</th>\n",
       "      <th>id</th>\n",
       "      <th>keywords</th>\n",
       "      <th>original_language</th>\n",
       "      <th>original_title</th>\n",
       "      <th>overview</th>\n",
       "      <th>popularity</th>\n",
       "      <th>production_companies</th>\n",
       "      <th>production_countries</th>\n",
       "      <th>release_date</th>\n",
       "      <th>revenue</th>\n",
       "      <th>runtime</th>\n",
       "      <th>spoken_languages</th>\n",
       "      <th>status</th>\n",
       "      <th>tagline</th>\n",
       "      <th>title</th>\n",
       "      <th>vote_average</th>\n",
       "      <th>vote_count</th>\n",
       "    </tr>\n",
       "  </thead>\n",
       "  <tbody>\n",
       "    <tr>\n",
       "      <th>0</th>\n",
       "      <td>237000000</td>\n",
       "      <td>[{\"id\": 28, \"name\": \"Action\"}, {\"id\": 12, \"nam...</td>\n",
       "      <td>http://www.avatarmovie.com/</td>\n",
       "      <td>19995</td>\n",
       "      <td>[{\"id\": 1463, \"name\": \"culture clash\"}, {\"id\":...</td>\n",
       "      <td>en</td>\n",
       "      <td>Avatar</td>\n",
       "      <td>In the 22nd century, a paraplegic Marine is di...</td>\n",
       "      <td>150.437577</td>\n",
       "      <td>[{\"name\": \"Ingenious Film Partners\", \"id\": 289...</td>\n",
       "      <td>[{\"iso_3166_1\": \"US\", \"name\": \"United States o...</td>\n",
       "      <td>2009-12-10</td>\n",
       "      <td>2787965087</td>\n",
       "      <td>162.0</td>\n",
       "      <td>[{\"iso_639_1\": \"en\", \"name\": \"English\"}, {\"iso...</td>\n",
       "      <td>Released</td>\n",
       "      <td>Enter the World of Pandora.</td>\n",
       "      <td>Avatar</td>\n",
       "      <td>7.2</td>\n",
       "      <td>11800</td>\n",
       "    </tr>\n",
       "    <tr>\n",
       "      <th>1</th>\n",
       "      <td>300000000</td>\n",
       "      <td>[{\"id\": 12, \"name\": \"Adventure\"}, {\"id\": 14, \"...</td>\n",
       "      <td>http://disney.go.com/disneypictures/pirates/</td>\n",
       "      <td>285</td>\n",
       "      <td>[{\"id\": 270, \"name\": \"ocean\"}, {\"id\": 726, \"na...</td>\n",
       "      <td>en</td>\n",
       "      <td>Pirates of the Caribbean: At World's End</td>\n",
       "      <td>Captain Barbossa, long believed to be dead, ha...</td>\n",
       "      <td>139.082615</td>\n",
       "      <td>[{\"name\": \"Walt Disney Pictures\", \"id\": 2}, {\"...</td>\n",
       "      <td>[{\"iso_3166_1\": \"US\", \"name\": \"United States o...</td>\n",
       "      <td>2007-05-19</td>\n",
       "      <td>961000000</td>\n",
       "      <td>169.0</td>\n",
       "      <td>[{\"iso_639_1\": \"en\", \"name\": \"English\"}]</td>\n",
       "      <td>Released</td>\n",
       "      <td>At the end of the world, the adventure begins.</td>\n",
       "      <td>Pirates of the Caribbean: At World's End</td>\n",
       "      <td>6.9</td>\n",
       "      <td>4500</td>\n",
       "    </tr>\n",
       "  </tbody>\n",
       "</table>\n",
       "</div>"
      ],
      "text/plain": [
       "      budget                                             genres  \\\n",
       "0  237000000  [{\"id\": 28, \"name\": \"Action\"}, {\"id\": 12, \"nam...   \n",
       "1  300000000  [{\"id\": 12, \"name\": \"Adventure\"}, {\"id\": 14, \"...   \n",
       "\n",
       "                                       homepage     id  \\\n",
       "0                   http://www.avatarmovie.com/  19995   \n",
       "1  http://disney.go.com/disneypictures/pirates/    285   \n",
       "\n",
       "                                            keywords original_language  \\\n",
       "0  [{\"id\": 1463, \"name\": \"culture clash\"}, {\"id\":...                en   \n",
       "1  [{\"id\": 270, \"name\": \"ocean\"}, {\"id\": 726, \"na...                en   \n",
       "\n",
       "                             original_title  \\\n",
       "0                                    Avatar   \n",
       "1  Pirates of the Caribbean: At World's End   \n",
       "\n",
       "                                            overview  popularity  \\\n",
       "0  In the 22nd century, a paraplegic Marine is di...  150.437577   \n",
       "1  Captain Barbossa, long believed to be dead, ha...  139.082615   \n",
       "\n",
       "                                production_companies  \\\n",
       "0  [{\"name\": \"Ingenious Film Partners\", \"id\": 289...   \n",
       "1  [{\"name\": \"Walt Disney Pictures\", \"id\": 2}, {\"...   \n",
       "\n",
       "                                production_countries release_date     revenue  \\\n",
       "0  [{\"iso_3166_1\": \"US\", \"name\": \"United States o...   2009-12-10  2787965087   \n",
       "1  [{\"iso_3166_1\": \"US\", \"name\": \"United States o...   2007-05-19   961000000   \n",
       "\n",
       "   runtime                                   spoken_languages    status  \\\n",
       "0    162.0  [{\"iso_639_1\": \"en\", \"name\": \"English\"}, {\"iso...  Released   \n",
       "1    169.0           [{\"iso_639_1\": \"en\", \"name\": \"English\"}]  Released   \n",
       "\n",
       "                                          tagline  \\\n",
       "0                     Enter the World of Pandora.   \n",
       "1  At the end of the world, the adventure begins.   \n",
       "\n",
       "                                      title  vote_average  vote_count  \n",
       "0                                    Avatar           7.2       11800  \n",
       "1  Pirates of the Caribbean: At World's End           6.9        4500  "
      ]
     },
     "execution_count": 5,
     "metadata": {},
     "output_type": "execute_result"
    }
   ],
   "source": [
    "movie_data.head(2)\n"
   ]
  },
  {
   "cell_type": "code",
   "execution_count": 6,
   "id": "bbdd0071-15e8-436b-a323-69ac7240fa04",
   "metadata": {},
   "outputs": [
    {
     "name": "stdout",
     "output_type": "stream",
     "text": [
      "<class 'pandas.core.frame.DataFrame'>\n",
      "RangeIndex: 4803 entries, 0 to 4802\n",
      "Data columns (total 20 columns):\n",
      " #   Column                Non-Null Count  Dtype  \n",
      "---  ------                --------------  -----  \n",
      " 0   budget                4803 non-null   int64  \n",
      " 1   genres                4803 non-null   object \n",
      " 2   homepage              1712 non-null   object \n",
      " 3   id                    4803 non-null   int64  \n",
      " 4   keywords              4803 non-null   object \n",
      " 5   original_language     4803 non-null   object \n",
      " 6   original_title        4803 non-null   object \n",
      " 7   overview              4800 non-null   object \n",
      " 8   popularity            4803 non-null   float64\n",
      " 9   production_companies  4803 non-null   object \n",
      " 10  production_countries  4803 non-null   object \n",
      " 11  release_date          4802 non-null   object \n",
      " 12  revenue               4803 non-null   int64  \n",
      " 13  runtime               4801 non-null   float64\n",
      " 14  spoken_languages      4803 non-null   object \n",
      " 15  status                4803 non-null   object \n",
      " 16  tagline               3959 non-null   object \n",
      " 17  title                 4803 non-null   object \n",
      " 18  vote_average          4803 non-null   float64\n",
      " 19  vote_count            4803 non-null   int64  \n",
      "dtypes: float64(3), int64(4), object(13)\n",
      "memory usage: 750.6+ KB\n"
     ]
    },
    {
     "data": {
      "text/plain": [
       "(4803, 20)"
      ]
     },
     "execution_count": 6,
     "metadata": {},
     "output_type": "execute_result"
    }
   ],
   "source": [
    "movie_data.info()\n",
    "movie_data.shape"
   ]
  },
  {
   "cell_type": "code",
   "execution_count": 7,
   "id": "7c0034e0-28b6-4026-9ad2-dfe468e1ed25",
   "metadata": {},
   "outputs": [],
   "source": [
    "#movies_detail = movie_data.merge(credits_data,on = 'title')\n",
    "movies_detail = movie_data.merge(credits_data,right_on='movie_id', left_on='id')"
   ]
  },
  {
   "cell_type": "code",
   "execution_count": 8,
   "id": "a1fe356d-bc3d-412e-bf5b-624aebf9ea4e",
   "metadata": {},
   "outputs": [
    {
     "data": {
      "text/html": [
       "<div>\n",
       "<style scoped>\n",
       "    .dataframe tbody tr th:only-of-type {\n",
       "        vertical-align: middle;\n",
       "    }\n",
       "\n",
       "    .dataframe tbody tr th {\n",
       "        vertical-align: top;\n",
       "    }\n",
       "\n",
       "    .dataframe thead th {\n",
       "        text-align: right;\n",
       "    }\n",
       "</style>\n",
       "<table border=\"1\" class=\"dataframe\">\n",
       "  <thead>\n",
       "    <tr style=\"text-align: right;\">\n",
       "      <th></th>\n",
       "      <th>budget</th>\n",
       "      <th>genres</th>\n",
       "      <th>homepage</th>\n",
       "      <th>id</th>\n",
       "      <th>keywords</th>\n",
       "      <th>original_language</th>\n",
       "      <th>original_title</th>\n",
       "      <th>overview</th>\n",
       "      <th>popularity</th>\n",
       "      <th>production_companies</th>\n",
       "      <th>...</th>\n",
       "      <th>spoken_languages</th>\n",
       "      <th>status</th>\n",
       "      <th>tagline</th>\n",
       "      <th>title_x</th>\n",
       "      <th>vote_average</th>\n",
       "      <th>vote_count</th>\n",
       "      <th>movie_id</th>\n",
       "      <th>title_y</th>\n",
       "      <th>cast</th>\n",
       "      <th>crew</th>\n",
       "    </tr>\n",
       "  </thead>\n",
       "  <tbody>\n",
       "    <tr>\n",
       "      <th>0</th>\n",
       "      <td>237000000</td>\n",
       "      <td>[{\"id\": 28, \"name\": \"Action\"}, {\"id\": 12, \"nam...</td>\n",
       "      <td>http://www.avatarmovie.com/</td>\n",
       "      <td>19995</td>\n",
       "      <td>[{\"id\": 1463, \"name\": \"culture clash\"}, {\"id\":...</td>\n",
       "      <td>en</td>\n",
       "      <td>Avatar</td>\n",
       "      <td>In the 22nd century, a paraplegic Marine is di...</td>\n",
       "      <td>150.437577</td>\n",
       "      <td>[{\"name\": \"Ingenious Film Partners\", \"id\": 289...</td>\n",
       "      <td>...</td>\n",
       "      <td>[{\"iso_639_1\": \"en\", \"name\": \"English\"}, {\"iso...</td>\n",
       "      <td>Released</td>\n",
       "      <td>Enter the World of Pandora.</td>\n",
       "      <td>Avatar</td>\n",
       "      <td>7.2</td>\n",
       "      <td>11800</td>\n",
       "      <td>19995</td>\n",
       "      <td>Avatar</td>\n",
       "      <td>[{\"cast_id\": 242, \"character\": \"Jake Sully\", \"...</td>\n",
       "      <td>[{\"credit_id\": \"52fe48009251416c750aca23\", \"de...</td>\n",
       "    </tr>\n",
       "    <tr>\n",
       "      <th>1</th>\n",
       "      <td>300000000</td>\n",
       "      <td>[{\"id\": 12, \"name\": \"Adventure\"}, {\"id\": 14, \"...</td>\n",
       "      <td>http://disney.go.com/disneypictures/pirates/</td>\n",
       "      <td>285</td>\n",
       "      <td>[{\"id\": 270, \"name\": \"ocean\"}, {\"id\": 726, \"na...</td>\n",
       "      <td>en</td>\n",
       "      <td>Pirates of the Caribbean: At World's End</td>\n",
       "      <td>Captain Barbossa, long believed to be dead, ha...</td>\n",
       "      <td>139.082615</td>\n",
       "      <td>[{\"name\": \"Walt Disney Pictures\", \"id\": 2}, {\"...</td>\n",
       "      <td>...</td>\n",
       "      <td>[{\"iso_639_1\": \"en\", \"name\": \"English\"}]</td>\n",
       "      <td>Released</td>\n",
       "      <td>At the end of the world, the adventure begins.</td>\n",
       "      <td>Pirates of the Caribbean: At World's End</td>\n",
       "      <td>6.9</td>\n",
       "      <td>4500</td>\n",
       "      <td>285</td>\n",
       "      <td>Pirates of the Caribbean: At World's End</td>\n",
       "      <td>[{\"cast_id\": 4, \"character\": \"Captain Jack Spa...</td>\n",
       "      <td>[{\"credit_id\": \"52fe4232c3a36847f800b579\", \"de...</td>\n",
       "    </tr>\n",
       "  </tbody>\n",
       "</table>\n",
       "<p>2 rows × 24 columns</p>\n",
       "</div>"
      ],
      "text/plain": [
       "      budget                                             genres  \\\n",
       "0  237000000  [{\"id\": 28, \"name\": \"Action\"}, {\"id\": 12, \"nam...   \n",
       "1  300000000  [{\"id\": 12, \"name\": \"Adventure\"}, {\"id\": 14, \"...   \n",
       "\n",
       "                                       homepage     id  \\\n",
       "0                   http://www.avatarmovie.com/  19995   \n",
       "1  http://disney.go.com/disneypictures/pirates/    285   \n",
       "\n",
       "                                            keywords original_language  \\\n",
       "0  [{\"id\": 1463, \"name\": \"culture clash\"}, {\"id\":...                en   \n",
       "1  [{\"id\": 270, \"name\": \"ocean\"}, {\"id\": 726, \"na...                en   \n",
       "\n",
       "                             original_title  \\\n",
       "0                                    Avatar   \n",
       "1  Pirates of the Caribbean: At World's End   \n",
       "\n",
       "                                            overview  popularity  \\\n",
       "0  In the 22nd century, a paraplegic Marine is di...  150.437577   \n",
       "1  Captain Barbossa, long believed to be dead, ha...  139.082615   \n",
       "\n",
       "                                production_companies  ...  \\\n",
       "0  [{\"name\": \"Ingenious Film Partners\", \"id\": 289...  ...   \n",
       "1  [{\"name\": \"Walt Disney Pictures\", \"id\": 2}, {\"...  ...   \n",
       "\n",
       "                                    spoken_languages    status  \\\n",
       "0  [{\"iso_639_1\": \"en\", \"name\": \"English\"}, {\"iso...  Released   \n",
       "1           [{\"iso_639_1\": \"en\", \"name\": \"English\"}]  Released   \n",
       "\n",
       "                                          tagline  \\\n",
       "0                     Enter the World of Pandora.   \n",
       "1  At the end of the world, the adventure begins.   \n",
       "\n",
       "                                    title_x vote_average vote_count movie_id  \\\n",
       "0                                    Avatar          7.2      11800    19995   \n",
       "1  Pirates of the Caribbean: At World's End          6.9       4500      285   \n",
       "\n",
       "                                    title_y  \\\n",
       "0                                    Avatar   \n",
       "1  Pirates of the Caribbean: At World's End   \n",
       "\n",
       "                                                cast  \\\n",
       "0  [{\"cast_id\": 242, \"character\": \"Jake Sully\", \"...   \n",
       "1  [{\"cast_id\": 4, \"character\": \"Captain Jack Spa...   \n",
       "\n",
       "                                                crew  \n",
       "0  [{\"credit_id\": \"52fe48009251416c750aca23\", \"de...  \n",
       "1  [{\"credit_id\": \"52fe4232c3a36847f800b579\", \"de...  \n",
       "\n",
       "[2 rows x 24 columns]"
      ]
     },
     "execution_count": 8,
     "metadata": {},
     "output_type": "execute_result"
    }
   ],
   "source": [
    "movies_detail.head(2)"
   ]
  },
  {
   "cell_type": "code",
   "execution_count": 9,
   "id": "7ed54791-89ab-4cf2-a1a6-7f6b26357e82",
   "metadata": {},
   "outputs": [
    {
     "data": {
      "text/plain": [
       "(4803, 20)"
      ]
     },
     "execution_count": 9,
     "metadata": {},
     "output_type": "execute_result"
    }
   ],
   "source": [
    "movie_data.shape"
   ]
  },
  {
   "cell_type": "code",
   "execution_count": 10,
   "id": "d6bf72ee-d8f4-4333-961c-ca4266f9b96a",
   "metadata": {},
   "outputs": [
    {
     "data": {
      "text/plain": [
       "(4803, 4)"
      ]
     },
     "execution_count": 10,
     "metadata": {},
     "output_type": "execute_result"
    }
   ],
   "source": [
    "credits_data.shape"
   ]
  },
  {
   "cell_type": "code",
   "execution_count": 11,
   "id": "954bb58d-f084-4e39-927e-cd54af2c8e0c",
   "metadata": {},
   "outputs": [
    {
     "name": "stdout",
     "output_type": "stream",
     "text": [
      "<class 'pandas.core.frame.DataFrame'>\n",
      "RangeIndex: 4803 entries, 0 to 4802\n",
      "Data columns (total 24 columns):\n",
      " #   Column                Non-Null Count  Dtype  \n",
      "---  ------                --------------  -----  \n",
      " 0   budget                4803 non-null   int64  \n",
      " 1   genres                4803 non-null   object \n",
      " 2   homepage              1712 non-null   object \n",
      " 3   id                    4803 non-null   int64  \n",
      " 4   keywords              4803 non-null   object \n",
      " 5   original_language     4803 non-null   object \n",
      " 6   original_title        4803 non-null   object \n",
      " 7   overview              4800 non-null   object \n",
      " 8   popularity            4803 non-null   float64\n",
      " 9   production_companies  4803 non-null   object \n",
      " 10  production_countries  4803 non-null   object \n",
      " 11  release_date          4802 non-null   object \n",
      " 12  revenue               4803 non-null   int64  \n",
      " 13  runtime               4801 non-null   float64\n",
      " 14  spoken_languages      4803 non-null   object \n",
      " 15  status                4803 non-null   object \n",
      " 16  tagline               3959 non-null   object \n",
      " 17  title_x               4803 non-null   object \n",
      " 18  vote_average          4803 non-null   float64\n",
      " 19  vote_count            4803 non-null   int64  \n",
      " 20  movie_id              4803 non-null   int64  \n",
      " 21  title_y               4803 non-null   object \n",
      " 22  cast                  4803 non-null   object \n",
      " 23  crew                  4803 non-null   object \n",
      "dtypes: float64(3), int64(5), object(16)\n",
      "memory usage: 900.7+ KB\n"
     ]
    }
   ],
   "source": [
    "movies_detail.info()"
   ]
  },
  {
   "cell_type": "code",
   "execution_count": 12,
   "id": "84c28890-4f87-450d-bcfc-62650d021a71",
   "metadata": {},
   "outputs": [],
   "source": [
    "movies_detail = movies_detail[['movie_id','original_title','overview','genres','keywords','tagline','cast','crew']]"
   ]
  },
  {
   "cell_type": "code",
   "execution_count": 13,
   "id": "13ec462f-47eb-4389-bca5-d473cfc06f25",
   "metadata": {},
   "outputs": [
    {
     "name": "stdout",
     "output_type": "stream",
     "text": [
      "<class 'pandas.core.frame.DataFrame'>\n",
      "RangeIndex: 4803 entries, 0 to 4802\n",
      "Data columns (total 8 columns):\n",
      " #   Column          Non-Null Count  Dtype \n",
      "---  ------          --------------  ----- \n",
      " 0   movie_id        4803 non-null   int64 \n",
      " 1   original_title  4803 non-null   object\n",
      " 2   overview        4800 non-null   object\n",
      " 3   genres          4803 non-null   object\n",
      " 4   keywords        4803 non-null   object\n",
      " 5   tagline         3959 non-null   object\n",
      " 6   cast            4803 non-null   object\n",
      " 7   crew            4803 non-null   object\n",
      "dtypes: int64(1), object(7)\n",
      "memory usage: 300.3+ KB\n"
     ]
    }
   ],
   "source": [
    "movies_detail.info()"
   ]
  },
  {
   "cell_type": "code",
   "execution_count": 14,
   "id": "d82484de-dfda-490c-8a9c-214df88d9969",
   "metadata": {},
   "outputs": [
    {
     "data": {
      "text/html": [
       "<div>\n",
       "<style scoped>\n",
       "    .dataframe tbody tr th:only-of-type {\n",
       "        vertical-align: middle;\n",
       "    }\n",
       "\n",
       "    .dataframe tbody tr th {\n",
       "        vertical-align: top;\n",
       "    }\n",
       "\n",
       "    .dataframe thead th {\n",
       "        text-align: right;\n",
       "    }\n",
       "</style>\n",
       "<table border=\"1\" class=\"dataframe\">\n",
       "  <thead>\n",
       "    <tr style=\"text-align: right;\">\n",
       "      <th></th>\n",
       "      <th>movie_id</th>\n",
       "      <th>original_title</th>\n",
       "      <th>overview</th>\n",
       "      <th>genres</th>\n",
       "      <th>keywords</th>\n",
       "      <th>tagline</th>\n",
       "      <th>cast</th>\n",
       "      <th>crew</th>\n",
       "    </tr>\n",
       "  </thead>\n",
       "  <tbody>\n",
       "    <tr>\n",
       "      <th>0</th>\n",
       "      <td>19995</td>\n",
       "      <td>Avatar</td>\n",
       "      <td>In the 22nd century, a paraplegic Marine is di...</td>\n",
       "      <td>[{\"id\": 28, \"name\": \"Action\"}, {\"id\": 12, \"nam...</td>\n",
       "      <td>[{\"id\": 1463, \"name\": \"culture clash\"}, {\"id\":...</td>\n",
       "      <td>Enter the World of Pandora.</td>\n",
       "      <td>[{\"cast_id\": 242, \"character\": \"Jake Sully\", \"...</td>\n",
       "      <td>[{\"credit_id\": \"52fe48009251416c750aca23\", \"de...</td>\n",
       "    </tr>\n",
       "    <tr>\n",
       "      <th>1</th>\n",
       "      <td>285</td>\n",
       "      <td>Pirates of the Caribbean: At World's End</td>\n",
       "      <td>Captain Barbossa, long believed to be dead, ha...</td>\n",
       "      <td>[{\"id\": 12, \"name\": \"Adventure\"}, {\"id\": 14, \"...</td>\n",
       "      <td>[{\"id\": 270, \"name\": \"ocean\"}, {\"id\": 726, \"na...</td>\n",
       "      <td>At the end of the world, the adventure begins.</td>\n",
       "      <td>[{\"cast_id\": 4, \"character\": \"Captain Jack Spa...</td>\n",
       "      <td>[{\"credit_id\": \"52fe4232c3a36847f800b579\", \"de...</td>\n",
       "    </tr>\n",
       "  </tbody>\n",
       "</table>\n",
       "</div>"
      ],
      "text/plain": [
       "   movie_id                            original_title  \\\n",
       "0     19995                                    Avatar   \n",
       "1       285  Pirates of the Caribbean: At World's End   \n",
       "\n",
       "                                            overview  \\\n",
       "0  In the 22nd century, a paraplegic Marine is di...   \n",
       "1  Captain Barbossa, long believed to be dead, ha...   \n",
       "\n",
       "                                              genres  \\\n",
       "0  [{\"id\": 28, \"name\": \"Action\"}, {\"id\": 12, \"nam...   \n",
       "1  [{\"id\": 12, \"name\": \"Adventure\"}, {\"id\": 14, \"...   \n",
       "\n",
       "                                            keywords  \\\n",
       "0  [{\"id\": 1463, \"name\": \"culture clash\"}, {\"id\":...   \n",
       "1  [{\"id\": 270, \"name\": \"ocean\"}, {\"id\": 726, \"na...   \n",
       "\n",
       "                                          tagline  \\\n",
       "0                     Enter the World of Pandora.   \n",
       "1  At the end of the world, the adventure begins.   \n",
       "\n",
       "                                                cast  \\\n",
       "0  [{\"cast_id\": 242, \"character\": \"Jake Sully\", \"...   \n",
       "1  [{\"cast_id\": 4, \"character\": \"Captain Jack Spa...   \n",
       "\n",
       "                                                crew  \n",
       "0  [{\"credit_id\": \"52fe48009251416c750aca23\", \"de...  \n",
       "1  [{\"credit_id\": \"52fe4232c3a36847f800b579\", \"de...  "
      ]
     },
     "execution_count": 14,
     "metadata": {},
     "output_type": "execute_result"
    }
   ],
   "source": [
    "movies_detail.head(2)\n"
   ]
  },
  {
   "cell_type": "code",
   "execution_count": 15,
   "id": "fe908b1e-02f2-4b03-a4aa-1f3f4481dcd5",
   "metadata": {},
   "outputs": [
    {
     "name": "stdout",
     "output_type": "stream",
     "text": [
      "<class 'str'>\n",
      "[{\"id\": 28, \"name\": \"Action\"}, {\"id\": 12, \"name\": \"Adventure\"}, {\"id\": 14, \"name\": \"Fantasy\"}, {\"id\": 878, \"name\": \"Science Fiction\"}]\n"
     ]
    }
   ],
   "source": [
    "a = movies_detail['genres'][0]\n",
    "print(type(a))\n",
    "print(a)"
   ]
  },
  {
   "cell_type": "markdown",
   "id": "fbe7e658-11bc-4ab6-a9fd-8b6a6e9397bf",
   "metadata": {},
   "source": [
    "# Pre Processing"
   ]
  },
  {
   "cell_type": "code",
   "execution_count": 16,
   "id": "80b8db2a-d10f-482b-93bd-baab1cc8dc58",
   "metadata": {},
   "outputs": [],
   "source": [
    "import ast"
   ]
  },
  {
   "cell_type": "code",
   "execution_count": 17,
   "id": "b6689c0f-8d35-4cc7-8393-d7a7bc0c559b",
   "metadata": {},
   "outputs": [],
   "source": [
    "def fetch_name(record :str):\n",
    "    records = ast.literal_eval(record)\n",
    "    data = []    \n",
    "    for i in records:\n",
    "        name = i['name']\n",
    "        data.append(name)\n",
    "\n",
    "    return data"
   ]
  },
  {
   "cell_type": "code",
   "execution_count": 18,
   "id": "2e70dfd5-b19f-4c80-8f07-621c7ed3e8ad",
   "metadata": {},
   "outputs": [],
   "source": [
    "def fetch_from_crew(data :str):\n",
    "    records = ast.literal_eval(data)\n",
    "    l = []\n",
    "    for rec in records:\n",
    "        if (rec['job'] in ('Director','Writer','Producer')):\n",
    "            l.append(rec['name'])\n",
    "\n",
    "    return list(set(l))\n",
    "\n"
   ]
  },
  {
   "cell_type": "code",
   "execution_count": 19,
   "id": "a9569806-e41c-4b72-a80a-45be39c4cec1",
   "metadata": {},
   "outputs": [
    {
     "data": {
      "text/plain": [
       "['Jon Landau', 'James Cameron']"
      ]
     },
     "execution_count": 19,
     "metadata": {},
     "output_type": "execute_result"
    }
   ],
   "source": [
    "fetch_name(a)\n",
    "fetch_from_crew(movies_detail['crew'][0])"
   ]
  },
  {
   "cell_type": "code",
   "execution_count": 20,
   "id": "0dd85d15-2a00-43b2-903d-c056b686d3d6",
   "metadata": {},
   "outputs": [],
   "source": [
    "movies_detail['genres'] = movies_detail['genres'].apply(fetch_name)"
   ]
  },
  {
   "cell_type": "code",
   "execution_count": 21,
   "id": "11c80a4b-c10c-43ef-9ec4-d14b4b6d63eb",
   "metadata": {},
   "outputs": [],
   "source": [
    "movies_detail['keywords'] = movies_detail['keywords'].apply(fetch_name)"
   ]
  },
  {
   "cell_type": "code",
   "execution_count": 22,
   "id": "fdb9a065-d9fd-4125-b091-ebe5a01ca7e3",
   "metadata": {},
   "outputs": [],
   "source": [
    "movies_detail['cast'] = movies_detail['cast'].apply(fetch_name)"
   ]
  },
  {
   "cell_type": "code",
   "execution_count": 23,
   "id": "111423b2-d807-4655-bc2c-a5a32402533a",
   "metadata": {},
   "outputs": [],
   "source": [
    "movies_detail['crew'] = movies_detail['crew'].apply(fetch_from_crew)"
   ]
  },
  {
   "cell_type": "code",
   "execution_count": 24,
   "id": "93147d91-1702-4ba5-9bfc-9b9f39dd7144",
   "metadata": {},
   "outputs": [],
   "source": [
    "movies_detail['overview'] = movies_detail['overview'].apply(lambda x:str(x).split())"
   ]
  },
  {
   "cell_type": "code",
   "execution_count": 25,
   "id": "ed5f3534-727a-4dd2-badb-0a995c8081fd",
   "metadata": {},
   "outputs": [],
   "source": [
    "movies_detail['tagline'] = movies_detail['tagline'].apply(lambda x:str(x).split())"
   ]
  },
  {
   "cell_type": "code",
   "execution_count": 26,
   "id": "14092030-602f-4799-8254-3162c40f89b0",
   "metadata": {},
   "outputs": [
    {
     "data": {
      "text/html": [
       "<div>\n",
       "<style scoped>\n",
       "    .dataframe tbody tr th:only-of-type {\n",
       "        vertical-align: middle;\n",
       "    }\n",
       "\n",
       "    .dataframe tbody tr th {\n",
       "        vertical-align: top;\n",
       "    }\n",
       "\n",
       "    .dataframe thead th {\n",
       "        text-align: right;\n",
       "    }\n",
       "</style>\n",
       "<table border=\"1\" class=\"dataframe\">\n",
       "  <thead>\n",
       "    <tr style=\"text-align: right;\">\n",
       "      <th></th>\n",
       "      <th>movie_id</th>\n",
       "      <th>original_title</th>\n",
       "      <th>overview</th>\n",
       "      <th>genres</th>\n",
       "      <th>keywords</th>\n",
       "      <th>tagline</th>\n",
       "      <th>cast</th>\n",
       "      <th>crew</th>\n",
       "    </tr>\n",
       "  </thead>\n",
       "  <tbody>\n",
       "    <tr>\n",
       "      <th>0</th>\n",
       "      <td>19995</td>\n",
       "      <td>Avatar</td>\n",
       "      <td>[In, the, 22nd, century,, a, paraplegic, Marin...</td>\n",
       "      <td>[Action, Adventure, Fantasy, Science Fiction]</td>\n",
       "      <td>[culture clash, future, space war, space colon...</td>\n",
       "      <td>[Enter, the, World, of, Pandora.]</td>\n",
       "      <td>[Sam Worthington, Zoe Saldana, Sigourney Weave...</td>\n",
       "      <td>[Jon Landau, James Cameron]</td>\n",
       "    </tr>\n",
       "    <tr>\n",
       "      <th>1</th>\n",
       "      <td>285</td>\n",
       "      <td>Pirates of the Caribbean: At World's End</td>\n",
       "      <td>[Captain, Barbossa,, long, believed, to, be, d...</td>\n",
       "      <td>[Adventure, Fantasy, Action]</td>\n",
       "      <td>[ocean, drug abuse, exotic island, east india ...</td>\n",
       "      <td>[At, the, end, of, the, world,, the, adventure...</td>\n",
       "      <td>[Johnny Depp, Orlando Bloom, Keira Knightley, ...</td>\n",
       "      <td>[Jerry Bruckheimer, Peter Kohn, Eric McLeod, G...</td>\n",
       "    </tr>\n",
       "  </tbody>\n",
       "</table>\n",
       "</div>"
      ],
      "text/plain": [
       "   movie_id                            original_title  \\\n",
       "0     19995                                    Avatar   \n",
       "1       285  Pirates of the Caribbean: At World's End   \n",
       "\n",
       "                                            overview  \\\n",
       "0  [In, the, 22nd, century,, a, paraplegic, Marin...   \n",
       "1  [Captain, Barbossa,, long, believed, to, be, d...   \n",
       "\n",
       "                                          genres  \\\n",
       "0  [Action, Adventure, Fantasy, Science Fiction]   \n",
       "1                   [Adventure, Fantasy, Action]   \n",
       "\n",
       "                                            keywords  \\\n",
       "0  [culture clash, future, space war, space colon...   \n",
       "1  [ocean, drug abuse, exotic island, east india ...   \n",
       "\n",
       "                                             tagline  \\\n",
       "0                  [Enter, the, World, of, Pandora.]   \n",
       "1  [At, the, end, of, the, world,, the, adventure...   \n",
       "\n",
       "                                                cast  \\\n",
       "0  [Sam Worthington, Zoe Saldana, Sigourney Weave...   \n",
       "1  [Johnny Depp, Orlando Bloom, Keira Knightley, ...   \n",
       "\n",
       "                                                crew  \n",
       "0                        [Jon Landau, James Cameron]  \n",
       "1  [Jerry Bruckheimer, Peter Kohn, Eric McLeod, G...  "
      ]
     },
     "execution_count": 26,
     "metadata": {},
     "output_type": "execute_result"
    }
   ],
   "source": [
    "movies_detail.head(2)"
   ]
  },
  {
   "cell_type": "code",
   "execution_count": 27,
   "id": "08be1daa-0d97-406f-803f-4bb2968ee96e",
   "metadata": {},
   "outputs": [],
   "source": [
    "def make_single_word(list_of_data):\n",
    "    l1=[]\n",
    "    \n",
    "    for l in list_of_data:\n",
    "        l1.append((str(l).replace(\" \",\"\")))\n",
    "    return l1"
   ]
  },
  {
   "cell_type": "code",
   "execution_count": 28,
   "id": "0e2cbf04-1435-4104-a14d-6211cf353972",
   "metadata": {},
   "outputs": [],
   "source": [
    "movies_detail['genres'] = movies_detail['genres'].apply(make_single_word)\n",
    "movies_detail['keywords'] = movies_detail['keywords'].apply(make_single_word)\n",
    "movies_detail['tagline'] = movies_detail['tagline'].apply(make_single_word)\n",
    "movies_detail['cast'] = movies_detail['cast'].apply(make_single_word)\n",
    "movies_detail['crew'] = movies_detail['crew'].apply(make_single_word)"
   ]
  },
  {
   "cell_type": "code",
   "execution_count": 29,
   "id": "92885865-a373-44d8-a204-b1ccdc37cc9d",
   "metadata": {},
   "outputs": [],
   "source": [
    "movies_detail['tags'] = movies_detail['overview'] + movies_detail['genres'] + movies_detail['keywords'] + movies_detail['tagline'] + movies_detail['cast'] + movies_detail['crew']"
   ]
  },
  {
   "cell_type": "code",
   "execution_count": 30,
   "id": "fd57ff61-fdb6-4602-a38f-9c64cf3eeadf",
   "metadata": {},
   "outputs": [
    {
     "name": "stdout",
     "output_type": "stream",
     "text": [
      "<class 'pandas.core.frame.DataFrame'>\n",
      "RangeIndex: 4803 entries, 0 to 4802\n",
      "Data columns (total 9 columns):\n",
      " #   Column          Non-Null Count  Dtype \n",
      "---  ------          --------------  ----- \n",
      " 0   movie_id        4803 non-null   int64 \n",
      " 1   original_title  4803 non-null   object\n",
      " 2   overview        4803 non-null   object\n",
      " 3   genres          4803 non-null   object\n",
      " 4   keywords        4803 non-null   object\n",
      " 5   tagline         4803 non-null   object\n",
      " 6   cast            4803 non-null   object\n",
      " 7   crew            4803 non-null   object\n",
      " 8   tags            4803 non-null   object\n",
      "dtypes: int64(1), object(8)\n",
      "memory usage: 337.8+ KB\n"
     ]
    }
   ],
   "source": [
    "movies_detail.info()"
   ]
  },
  {
   "cell_type": "code",
   "execution_count": 31,
   "id": "24cab3d8-0767-45cd-b5ab-29208a77c525",
   "metadata": {},
   "outputs": [
    {
     "data": {
      "text/html": [
       "<div>\n",
       "<style scoped>\n",
       "    .dataframe tbody tr th:only-of-type {\n",
       "        vertical-align: middle;\n",
       "    }\n",
       "\n",
       "    .dataframe tbody tr th {\n",
       "        vertical-align: top;\n",
       "    }\n",
       "\n",
       "    .dataframe thead th {\n",
       "        text-align: right;\n",
       "    }\n",
       "</style>\n",
       "<table border=\"1\" class=\"dataframe\">\n",
       "  <thead>\n",
       "    <tr style=\"text-align: right;\">\n",
       "      <th></th>\n",
       "      <th>movie_id</th>\n",
       "      <th>original_title</th>\n",
       "      <th>overview</th>\n",
       "      <th>genres</th>\n",
       "      <th>keywords</th>\n",
       "      <th>tagline</th>\n",
       "      <th>cast</th>\n",
       "      <th>crew</th>\n",
       "      <th>tags</th>\n",
       "    </tr>\n",
       "  </thead>\n",
       "  <tbody>\n",
       "    <tr>\n",
       "      <th>0</th>\n",
       "      <td>19995</td>\n",
       "      <td>Avatar</td>\n",
       "      <td>[In, the, 22nd, century,, a, paraplegic, Marin...</td>\n",
       "      <td>[Action, Adventure, Fantasy, ScienceFiction]</td>\n",
       "      <td>[cultureclash, future, spacewar, spacecolony, ...</td>\n",
       "      <td>[Enter, the, World, of, Pandora.]</td>\n",
       "      <td>[SamWorthington, ZoeSaldana, SigourneyWeaver, ...</td>\n",
       "      <td>[JonLandau, JamesCameron]</td>\n",
       "      <td>[In, the, 22nd, century,, a, paraplegic, Marin...</td>\n",
       "    </tr>\n",
       "    <tr>\n",
       "      <th>1</th>\n",
       "      <td>285</td>\n",
       "      <td>Pirates of the Caribbean: At World's End</td>\n",
       "      <td>[Captain, Barbossa,, long, believed, to, be, d...</td>\n",
       "      <td>[Adventure, Fantasy, Action]</td>\n",
       "      <td>[ocean, drugabuse, exoticisland, eastindiatrad...</td>\n",
       "      <td>[At, the, end, of, the, world,, the, adventure...</td>\n",
       "      <td>[JohnnyDepp, OrlandoBloom, KeiraKnightley, Ste...</td>\n",
       "      <td>[JerryBruckheimer, PeterKohn, EricMcLeod, Gore...</td>\n",
       "      <td>[Captain, Barbossa,, long, believed, to, be, d...</td>\n",
       "    </tr>\n",
       "  </tbody>\n",
       "</table>\n",
       "</div>"
      ],
      "text/plain": [
       "   movie_id                            original_title  \\\n",
       "0     19995                                    Avatar   \n",
       "1       285  Pirates of the Caribbean: At World's End   \n",
       "\n",
       "                                            overview  \\\n",
       "0  [In, the, 22nd, century,, a, paraplegic, Marin...   \n",
       "1  [Captain, Barbossa,, long, believed, to, be, d...   \n",
       "\n",
       "                                         genres  \\\n",
       "0  [Action, Adventure, Fantasy, ScienceFiction]   \n",
       "1                  [Adventure, Fantasy, Action]   \n",
       "\n",
       "                                            keywords  \\\n",
       "0  [cultureclash, future, spacewar, spacecolony, ...   \n",
       "1  [ocean, drugabuse, exoticisland, eastindiatrad...   \n",
       "\n",
       "                                             tagline  \\\n",
       "0                  [Enter, the, World, of, Pandora.]   \n",
       "1  [At, the, end, of, the, world,, the, adventure...   \n",
       "\n",
       "                                                cast  \\\n",
       "0  [SamWorthington, ZoeSaldana, SigourneyWeaver, ...   \n",
       "1  [JohnnyDepp, OrlandoBloom, KeiraKnightley, Ste...   \n",
       "\n",
       "                                                crew  \\\n",
       "0                          [JonLandau, JamesCameron]   \n",
       "1  [JerryBruckheimer, PeterKohn, EricMcLeod, Gore...   \n",
       "\n",
       "                                                tags  \n",
       "0  [In, the, 22nd, century,, a, paraplegic, Marin...  \n",
       "1  [Captain, Barbossa,, long, believed, to, be, d...  "
      ]
     },
     "execution_count": 31,
     "metadata": {},
     "output_type": "execute_result"
    }
   ],
   "source": [
    "movies_detail.head(2)"
   ]
  },
  {
   "cell_type": "code",
   "execution_count": 32,
   "id": "a45701eb-bb37-4f41-ab17-1f6711c27276",
   "metadata": {},
   "outputs": [
    {
     "data": {
      "text/plain": [
       "['22nd',\n",
       " '3d',\n",
       " 'Action',\n",
       " 'Adventure',\n",
       " 'AliciaVela-Bailey',\n",
       " 'AllanHenry',\n",
       " 'AnthonyIngruber',\n",
       " 'AprilMarieThomas',\n",
       " 'AshleyJeffery',\n",
       " 'AustinWilson',\n",
       " 'BrandonJelkes',\n",
       " 'BravitaA.Threatt',\n",
       " 'CCHPounder',\n",
       " 'CarvonFutrell',\n",
       " 'ChrisMala',\n",
       " 'ChristaOliver',\n",
       " 'ChristopherNolen',\n",
       " 'ColinBleasdale',\n",
       " 'CullenB.Madden',\n",
       " 'DavidVanHorn',\n",
       " 'DeanKnowsley',\n",
       " 'DebraWilson',\n",
       " 'DileepRao',\n",
       " 'Enter',\n",
       " 'Fantasy',\n",
       " 'FrankieTorres',\n",
       " 'GarethRuck',\n",
       " 'GerryBlair',\n",
       " 'GiovanniRibisi',\n",
       " 'HanniyahMuhammad',\n",
       " 'IlramChoi',\n",
       " 'In',\n",
       " 'JacobTomuri',\n",
       " 'JahnelCurfman',\n",
       " 'JamesCameron',\n",
       " 'JamesGaylyn',\n",
       " 'JamesPatrickPitt',\n",
       " 'JamieHarrison',\n",
       " 'JasonWhyte',\n",
       " 'JodieLandau',\n",
       " 'JodieTaylor',\n",
       " 'JoelDavidMoore',\n",
       " 'JonCurry',\n",
       " 'JonLandau',\n",
       " 'JosephBradyMadden',\n",
       " 'JosephMika-Hunt',\n",
       " 'JuleneRenee',\n",
       " 'JulieLamm',\n",
       " 'KaiPantano',\n",
       " 'KellyKilgour',\n",
       " 'KelsonHenderson',\n",
       " 'KevinDorman',\n",
       " 'KylaWarren',\n",
       " 'LazAlonso',\n",
       " 'LisaRoumain',\n",
       " 'LoganPithyou',\n",
       " 'LucyBriant',\n",
       " 'LukeHawker',\n",
       " 'Marine',\n",
       " 'MattClayton',\n",
       " 'MattGerald',\n",
       " 'MatthewChamberlain',\n",
       " 'MelvinLenoClarkIII',\n",
       " 'MicahMoch',\n",
       " 'MichaelBlain-Rozgay',\n",
       " 'MichelleRodriguez',\n",
       " 'MikeBodnar',\n",
       " 'NathanMeister',\n",
       " 'NicoleDionne',\n",
       " 'NikieZambo',\n",
       " 'Pandora',\n",
       " 'Pandora.',\n",
       " 'PaulYates',\n",
       " 'PeterDillon',\n",
       " 'PeterMensah',\n",
       " 'Raja',\n",
       " 'RhianSheehan',\n",
       " 'RichardWhiteside',\n",
       " 'SamWorthington',\n",
       " 'SaraWilson',\n",
       " 'ScienceFiction',\n",
       " 'ScottLawrence',\n",
       " 'SeanAnthonyMoran',\n",
       " 'SeanPatrickMurphy',\n",
       " 'SigourneyWeaver',\n",
       " 'SoniaYee',\n",
       " 'StephenLang',\n",
       " 'StuartPollock',\n",
       " 'T.J.Storm',\n",
       " 'TamicaWashington-Miller',\n",
       " 'TaylorKibby',\n",
       " 'TerryNotary',\n",
       " 'WesStudi',\n",
       " 'WoodySchultz',\n",
       " 'World',\n",
       " 'WrayWilson',\n",
       " 'ZoeSaldana',\n",
       " 'a',\n",
       " 'a',\n",
       " 'alien',\n",
       " 'alien',\n",
       " 'alienplanet',\n",
       " 'an',\n",
       " 'and',\n",
       " 'antiwar',\n",
       " 'battle',\n",
       " 'becomes',\n",
       " 'between',\n",
       " 'but',\n",
       " 'century,',\n",
       " 'cgi',\n",
       " 'civilization.',\n",
       " 'cultureclash',\n",
       " 'dispatched',\n",
       " 'following',\n",
       " 'future',\n",
       " 'futuristic',\n",
       " 'is',\n",
       " 'loveaffair',\n",
       " 'marine',\n",
       " 'mindandsoul',\n",
       " 'mission,',\n",
       " 'moon',\n",
       " 'of',\n",
       " 'on',\n",
       " 'orders',\n",
       " 'paraplegic',\n",
       " 'powerrelations',\n",
       " 'protecting',\n",
       " 'romance',\n",
       " 'society',\n",
       " 'soldier',\n",
       " 'space',\n",
       " 'spacecolony',\n",
       " 'spacetravel',\n",
       " 'spacewar',\n",
       " 'the',\n",
       " 'the',\n",
       " 'the',\n",
       " 'to',\n",
       " 'torn',\n",
       " 'tribe',\n",
       " 'unique']"
      ]
     },
     "execution_count": 32,
     "metadata": {},
     "output_type": "execute_result"
    }
   ],
   "source": [
    "sorted(movies_detail['tags'][0])"
   ]
  },
  {
   "cell_type": "code",
   "execution_count": 33,
   "id": "433eaddc-97d8-4bc1-9a69-eb18fc68cd24",
   "metadata": {},
   "outputs": [
    {
     "data": {
      "text/plain": [
       "movie_id          0\n",
       "original_title    0\n",
       "overview          0\n",
       "genres            0\n",
       "keywords          0\n",
       "tagline           0\n",
       "cast              0\n",
       "crew              0\n",
       "tags              0\n",
       "dtype: int64"
      ]
     },
     "execution_count": 33,
     "metadata": {},
     "output_type": "execute_result"
    }
   ],
   "source": [
    "movies_detail.isnull().sum()"
   ]
  },
  {
   "cell_type": "code",
   "execution_count": 34,
   "id": "62de2826-1b4c-49ca-b97c-c978639591e8",
   "metadata": {},
   "outputs": [],
   "source": [
    "new  = movies_detail.drop(columns=['overview','genres','keywords','cast','crew','tagline'])"
   ]
  },
  {
   "cell_type": "code",
   "execution_count": 35,
   "id": "302ee13e-9db4-4d7a-b075-a1b191cc8088",
   "metadata": {},
   "outputs": [],
   "source": [
    "new['tags'] = new['tags'].apply(lambda x:\" \".join(x))\n"
   ]
  },
  {
   "cell_type": "code",
   "execution_count": 36,
   "id": "fd7af467-8725-48aa-95dd-a99dd873898d",
   "metadata": {},
   "outputs": [
    {
     "data": {
      "text/html": [
       "<div>\n",
       "<style scoped>\n",
       "    .dataframe tbody tr th:only-of-type {\n",
       "        vertical-align: middle;\n",
       "    }\n",
       "\n",
       "    .dataframe tbody tr th {\n",
       "        vertical-align: top;\n",
       "    }\n",
       "\n",
       "    .dataframe thead th {\n",
       "        text-align: right;\n",
       "    }\n",
       "</style>\n",
       "<table border=\"1\" class=\"dataframe\">\n",
       "  <thead>\n",
       "    <tr style=\"text-align: right;\">\n",
       "      <th></th>\n",
       "      <th>movie_id</th>\n",
       "      <th>original_title</th>\n",
       "      <th>tags</th>\n",
       "    </tr>\n",
       "  </thead>\n",
       "  <tbody>\n",
       "    <tr>\n",
       "      <th>0</th>\n",
       "      <td>19995</td>\n",
       "      <td>Avatar</td>\n",
       "      <td>In the 22nd century, a paraplegic Marine is di...</td>\n",
       "    </tr>\n",
       "    <tr>\n",
       "      <th>1</th>\n",
       "      <td>285</td>\n",
       "      <td>Pirates of the Caribbean: At World's End</td>\n",
       "      <td>Captain Barbossa, long believed to be dead, ha...</td>\n",
       "    </tr>\n",
       "    <tr>\n",
       "      <th>2</th>\n",
       "      <td>206647</td>\n",
       "      <td>Spectre</td>\n",
       "      <td>A cryptic message from Bond’s past sends him o...</td>\n",
       "    </tr>\n",
       "    <tr>\n",
       "      <th>3</th>\n",
       "      <td>49026</td>\n",
       "      <td>The Dark Knight Rises</td>\n",
       "      <td>Following the death of District Attorney Harve...</td>\n",
       "    </tr>\n",
       "    <tr>\n",
       "      <th>4</th>\n",
       "      <td>49529</td>\n",
       "      <td>John Carter</td>\n",
       "      <td>John Carter is a war-weary, former military ca...</td>\n",
       "    </tr>\n",
       "  </tbody>\n",
       "</table>\n",
       "</div>"
      ],
      "text/plain": [
       "   movie_id                            original_title  \\\n",
       "0     19995                                    Avatar   \n",
       "1       285  Pirates of the Caribbean: At World's End   \n",
       "2    206647                                   Spectre   \n",
       "3     49026                     The Dark Knight Rises   \n",
       "4     49529                               John Carter   \n",
       "\n",
       "                                                tags  \n",
       "0  In the 22nd century, a paraplegic Marine is di...  \n",
       "1  Captain Barbossa, long believed to be dead, ha...  \n",
       "2  A cryptic message from Bond’s past sends him o...  \n",
       "3  Following the death of District Attorney Harve...  \n",
       "4  John Carter is a war-weary, former military ca...  "
      ]
     },
     "execution_count": 36,
     "metadata": {},
     "output_type": "execute_result"
    }
   ],
   "source": [
    "new.head()"
   ]
  },
  {
   "cell_type": "markdown",
   "id": "f1882009-46b0-426f-a7f5-f5f0534667e3",
   "metadata": {},
   "source": [
    "# Removing stop words and Creating Model"
   ]
  },
  {
   "cell_type": "code",
   "execution_count": 37,
   "id": "9e45dd62-3236-4891-9bf3-8a1f353a421e",
   "metadata": {},
   "outputs": [],
   "source": [
    "from sklearn.feature_extraction.text import CountVectorizer"
   ]
  },
  {
   "cell_type": "code",
   "execution_count": 98,
   "id": "be134b52-bcb9-4f4f-a5ba-1aa81bf08fa4",
   "metadata": {},
   "outputs": [],
   "source": [
    "cv = CountVectorizer(max_features=5000, stop_words='english', lowercase=True)"
   ]
  },
  {
   "cell_type": "code",
   "execution_count": 99,
   "id": "75177c8c-29cf-497e-96f9-331089195997",
   "metadata": {},
   "outputs": [],
   "source": [
    "vector = cv.fit_transform(new['tags']).toarray()"
   ]
  },
  {
   "cell_type": "code",
   "execution_count": 100,
   "id": "30c04fa7-1493-49c4-b090-883e8a584cbb",
   "metadata": {},
   "outputs": [],
   "source": [
    "from sklearn.metrics.pairwise import cosine_similarity"
   ]
  },
  {
   "cell_type": "code",
   "execution_count": 101,
   "id": "66763db2-3755-42ac-8e68-3b2fd74b0e01",
   "metadata": {},
   "outputs": [],
   "source": [
    "similarity = cosine_similarity(vector)"
   ]
  },
  {
   "cell_type": "code",
   "execution_count": 102,
   "id": "a5302d5d-719f-48bb-bb2b-df962c3fe65c",
   "metadata": {},
   "outputs": [
    {
     "data": {
      "text/plain": [
       "array([[1.        , 0.10768262, 0.04767313, ..., 0.04494666, 0.0244558 ,\n",
       "        0.        ],\n",
       "       [0.10768262, 1.        , 0.09035079, ..., 0.04259177, 0.02317449,\n",
       "        0.        ],\n",
       "       [0.04767313, 0.09035079, 1.        , ..., 0.02357023, 0.        ,\n",
       "        0.        ],\n",
       "       ...,\n",
       "       [0.04494666, 0.04259177, 0.02357023, ..., 1.        , 0.07254763,\n",
       "        0.07254763],\n",
       "       [0.0244558 , 0.02317449, 0.        , ..., 0.07254763, 1.        ,\n",
       "        0.07894737],\n",
       "       [0.        , 0.        , 0.        , ..., 0.07254763, 0.07894737,\n",
       "        1.        ]])"
      ]
     },
     "execution_count": 102,
     "metadata": {},
     "output_type": "execute_result"
    }
   ],
   "source": [
    "similarity"
   ]
  },
  {
   "cell_type": "code",
   "execution_count": 103,
   "id": "df02eac9-9e5f-4187-8423-403259d35194",
   "metadata": {},
   "outputs": [
    {
     "data": {
      "text/plain": [
       "(4803, 4803)"
      ]
     },
     "execution_count": 103,
     "metadata": {},
     "output_type": "execute_result"
    }
   ],
   "source": [
    "similarity.shape"
   ]
  },
  {
   "cell_type": "code",
   "execution_count": 104,
   "id": "6c1b6bf3-f546-4fc8-b53c-ffcdd929cf95",
   "metadata": {},
   "outputs": [
    {
     "data": {
      "text/plain": [
       "744"
      ]
     },
     "execution_count": 104,
     "metadata": {},
     "output_type": "execute_result"
    }
   ],
   "source": [
    "new[new['original_title'] == 'The Lego Movie'].index[0]"
   ]
  },
  {
   "cell_type": "code",
   "execution_count": 105,
   "id": "3ea74230-c67f-42b2-80ac-8485dfc730ea",
   "metadata": {},
   "outputs": [
    {
     "data": {
      "text/plain": [
       "[(1, 1.0000000000000002),\n",
       " (12, 0.5421047417431507),\n",
       " (199, 0.32142857142857134),\n",
       " (17, 0.2823156940921325),\n",
       " (190, 0.2156655464068768),\n",
       " (4004, 0.21428571428571427),\n",
       " (1331, 0.20526320231631415),\n",
       " (187, 0.20203050891044214),\n",
       " (848, 0.20064196662193812),\n",
       " (3568, 0.19999999999999998)]"
      ]
     },
     "execution_count": 105,
     "metadata": {},
     "output_type": "execute_result"
    }
   ],
   "source": [
    "sorted(list(enumerate(similarity[1])),reverse=True,key=lambda x: x[1])[0:10]"
   ]
  },
  {
   "cell_type": "code",
   "execution_count": 106,
   "id": "5a3ef650-55dd-4c20-aac8-e42222f6e37b",
   "metadata": {},
   "outputs": [],
   "source": [
    "def recommed_movies(movie):\n",
    "    index = new[new['original_title'] == movie].index[0]\n",
    "    distances = sorted(list(enumerate(similarity[index])),reverse=True,key=lambda x: x[1])[1:11]\n",
    "    for i in distances:\n",
    "        print(new.iloc[i[0]].original_title)"
   ]
  },
  {
   "cell_type": "code",
   "execution_count": 107,
   "id": "b1d404ff-58b6-4f0d-a724-4482d7624680",
   "metadata": {},
   "outputs": [
    {
     "name": "stdout",
     "output_type": "stream",
     "text": [
      "Toy Story 2\n",
      "Toy Story\n",
      "The 40 Year Old Virgin\n",
      "Despicable Me 2\n",
      "WALL·E\n",
      "Monsters, Inc.\n",
      "Cars\n",
      "Up\n",
      "The Simpsons Movie\n",
      "Cars 2\n"
     ]
    }
   ],
   "source": [
    "recommed_movies('Toy Story 3')"
   ]
  },
  {
   "cell_type": "code",
   "execution_count": 108,
   "id": "bd32a0d3-9283-4158-a170-d08632e44751",
   "metadata": {},
   "outputs": [
    {
     "name": "stdout",
     "output_type": "stream",
     "text": [
      "The Croods\n",
      "Evan Almighty\n",
      "Jonah: A VeggieTales Movie\n",
      "The Adventures of Rocky & Bullwinkle\n",
      "The Book of Life\n",
      "Curious George\n",
      "Percy Jackson: Sea of Monsters\n",
      "The Boxtrolls\n",
      "The Lion of Judah\n",
      "Alpha and Omega: The Legend of the Saw Tooth Cave\n"
     ]
    }
   ],
   "source": [
    "recommed_movies('The Lego Movie')"
   ]
  },
  {
   "cell_type": "code",
   "execution_count": 109,
   "id": "dc7f43d6-13ca-42cf-8bb7-c6e0b04a86e5",
   "metadata": {},
   "outputs": [
    {
     "name": "stdout",
     "output_type": "stream",
     "text": [
      "Batman & Robin\n",
      "Batman\n",
      "The Dark Knight Rises\n",
      "Batman Returns\n",
      "The Dark Knight\n",
      "Batman Begins\n",
      "Batman: The Dark Knight Returns, Part 2\n",
      "Navy Seals vs. Zombies\n",
      "Cry_Wolf\n",
      "DragonHeart\n"
     ]
    }
   ],
   "source": [
    "recommed_movies('Batman Forever')"
   ]
  },
  {
   "cell_type": "code",
   "execution_count": 110,
   "id": "8a7d0765-511a-4f18-afbe-c557260c6fff",
   "metadata": {},
   "outputs": [
    {
     "name": "stdout",
     "output_type": "stream",
     "text": [
      "The Wind That Shakes the Barley\n",
      "ராமானுஜன்\n",
      "The New World\n",
      "A Passage to India\n",
      "Agora\n",
      "Guiana 1838\n",
      "The Longest Day\n",
      "Valkyrie\n",
      "Rang De Basanti\n",
      "Oorlogswinter\n"
     ]
    }
   ],
   "source": [
    "recommed_movies('Gandhi')"
   ]
  },
  {
   "cell_type": "markdown",
   "id": "1cba8d88-0ade-4639-83f7-940b2a52da0a",
   "metadata": {},
   "source": [
    "# Dump the model for future prediction\n"
   ]
  },
  {
   "cell_type": "code",
   "execution_count": 112,
   "id": "f48fde7e-81d4-4857-b3fd-8471618f0b2e",
   "metadata": {},
   "outputs": [],
   "source": [
    "import pickle"
   ]
  },
  {
   "cell_type": "code",
   "execution_count": 117,
   "id": "250aa47e-5642-470e-afdd-59df2df8471d",
   "metadata": {},
   "outputs": [],
   "source": [
    "pickle.dump(new,open('model/movie_list.pickle','wb'))"
   ]
  },
  {
   "cell_type": "code",
   "execution_count": 118,
   "id": "98e98e48-298f-4005-b17d-4244e8ae987f",
   "metadata": {},
   "outputs": [],
   "source": [
    "pickle.dump(similarity, open('model/similarity.pickle','wb'))"
   ]
  },
  {
   "cell_type": "code",
   "execution_count": null,
   "id": "feb65b6d-ae90-4d71-b8c7-4171e63056ea",
   "metadata": {},
   "outputs": [],
   "source": []
  }
 ],
 "metadata": {
  "kernelspec": {
   "display_name": "Python 3 (ipykernel)",
   "language": "python",
   "name": "python3"
  },
  "language_info": {
   "codemirror_mode": {
    "name": "ipython",
    "version": 3
   },
   "file_extension": ".py",
   "mimetype": "text/x-python",
   "name": "python",
   "nbconvert_exporter": "python",
   "pygments_lexer": "ipython3",
   "version": "3.10.4"
  }
 },
 "nbformat": 4,
 "nbformat_minor": 5
}
